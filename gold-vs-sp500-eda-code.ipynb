{
 "cells": [
  {
   "cell_type": "code",
   "execution_count": 1,
   "metadata": {
    "colab": {
     "base_uri": "https://localhost:8080/"
    },
    "executionInfo": {
     "elapsed": 14638,
     "status": "ok",
     "timestamp": 1660187702816,
     "user": {
      "displayName": "Vinod Dhole",
      "userId": "09410569866548331327"
     },
     "user_tz": 240
    },
    "id": "5LQ5Pavt5RXO",
    "outputId": "c8adfe70-cc52-49c7-baed-9a83fb5bfd65"
   },
   "outputs": [],
   "source": [
    "!pip install numpy pandas matplotlib seaborn plotly --quiet\n",
    "!pip install yahoofinancials --quiet"
   ]
  },
  {
   "cell_type": "code",
   "execution_count": 2,
   "metadata": {
    "executionInfo": {
     "elapsed": 962,
     "status": "ok",
     "timestamp": 1660187703759,
     "user": {
      "displayName": "Vinod Dhole",
      "userId": "09410569866548331327"
     },
     "user_tz": 240
    },
    "id": "nia_IwoG5RXO"
   },
   "outputs": [],
   "source": [
    "from datetime import datetime, timedelta\n",
    "import numpy as np \n",
    "import pandas as pd\n",
    "from yahoofinancials import YahooFinancials"
   ]
  },
  {
   "cell_type": "code",
   "execution_count": 3,
   "metadata": {
    "executionInfo": {
     "elapsed": 4,
     "status": "ok",
     "timestamp": 1660187705943,
     "user": {
      "displayName": "Vinod Dhole",
      "userId": "09410569866548331327"
     },
     "user_tz": 240
    },
    "id": "UqLHkh6C5RXP"
   },
   "outputs": [],
   "source": [
    "def get_yahoofin_dataframe(ticker, start_date, end_date, frequency):\n",
    "    '''This function will return Historical pricing data in the form of Pandas DataFrame'''\n",
    "    yahoo_financials = YahooFinancials(ticker)\n",
    "    stock_prices = yahoo_financials.get_historical_price_data(start_date, end_date, frequency)\n",
    "    return pd.DataFrame(stock_prices[ticker]['prices'])"
   ]
  },
  {
   "cell_type": "code",
   "execution_count": 4,
   "metadata": {
    "colab": {
     "base_uri": "https://localhost:8080/"
    },
    "executionInfo": {
     "elapsed": 2,
     "status": "ok",
     "timestamp": 1660187706424,
     "user": {
      "displayName": "Vinod Dhole",
      "userId": "09410569866548331327"
     },
     "user_tz": 240
    },
    "id": "ujNkaD6u5RXQ",
    "outputId": "3bb25f9d-07f2-4d92-b7e3-8a4d4ed20935"
   },
   "outputs": [
    {
     "name": "stdout",
     "output_type": "stream",
     "text": [
      "Start Date    :2000-08-31 \n",
      "End Date      :2022-08-19\n",
      "Gold Ticker   :GC=F\n",
      "S&P 500 Ticker:^GSPC\n"
     ]
    }
   ],
   "source": [
    "#Variable initialization\n",
    "start_date = '2000-08-31'\n",
    "end_date = datetime.now().strftime('%Y-%m-%d')\n",
    "gold_ticker = 'GC=F'\n",
    "sp500_ticker = '^GSPC'\n",
    "print('Start Date    :{} \\nEnd Date      :{}\\nGold Ticker   :{}\\nS&P 500 Ticker:{}'.format(start_date, end_date,gold_ticker, sp500_ticker))"
   ]
  },
  {
   "cell_type": "code",
   "execution_count": 5,
   "metadata": {
    "colab": {
     "base_uri": "https://localhost:8080/",
     "height": 206
    },
    "executionInfo": {
     "elapsed": 802,
     "status": "ok",
     "timestamp": 1660187708033,
     "user": {
      "displayName": "Vinod Dhole",
      "userId": "09410569866548331327"
     },
     "user_tz": 240
    },
    "id": "klEzIMIT5RXQ",
    "outputId": "baee2f70-1ae7-4a48-b56d-9d3a2ca71cfa"
   },
   "outputs": [
    {
     "data": {
      "text/html": [
       "<div>\n",
       "<style scoped>\n",
       "    .dataframe tbody tr th:only-of-type {\n",
       "        vertical-align: middle;\n",
       "    }\n",
       "\n",
       "    .dataframe tbody tr th {\n",
       "        vertical-align: top;\n",
       "    }\n",
       "\n",
       "    .dataframe thead th {\n",
       "        text-align: right;\n",
       "    }\n",
       "</style>\n",
       "<table border=\"1\" class=\"dataframe\">\n",
       "  <thead>\n",
       "    <tr style=\"text-align: right;\">\n",
       "      <th></th>\n",
       "      <th>date</th>\n",
       "      <th>high</th>\n",
       "      <th>low</th>\n",
       "      <th>open</th>\n",
       "      <th>close</th>\n",
       "      <th>volume</th>\n",
       "      <th>adjclose</th>\n",
       "      <th>formatted_date</th>\n",
       "    </tr>\n",
       "  </thead>\n",
       "  <tbody>\n",
       "    <tr>\n",
       "      <th>0</th>\n",
       "      <td>967694400</td>\n",
       "      <td>278.299988</td>\n",
       "      <td>274.799988</td>\n",
       "      <td>274.799988</td>\n",
       "      <td>278.299988</td>\n",
       "      <td>0.0</td>\n",
       "      <td>278.299988</td>\n",
       "      <td>2000-08-31</td>\n",
       "    </tr>\n",
       "    <tr>\n",
       "      <th>1</th>\n",
       "      <td>967780800</td>\n",
       "      <td>277.000000</td>\n",
       "      <td>277.000000</td>\n",
       "      <td>277.000000</td>\n",
       "      <td>277.000000</td>\n",
       "      <td>0.0</td>\n",
       "      <td>277.000000</td>\n",
       "      <td>2000-09-01</td>\n",
       "    </tr>\n",
       "    <tr>\n",
       "      <th>2</th>\n",
       "      <td>968040000</td>\n",
       "      <td>NaN</td>\n",
       "      <td>NaN</td>\n",
       "      <td>NaN</td>\n",
       "      <td>NaN</td>\n",
       "      <td>NaN</td>\n",
       "      <td>NaN</td>\n",
       "      <td>2000-09-04</td>\n",
       "    </tr>\n",
       "    <tr>\n",
       "      <th>3</th>\n",
       "      <td>968126400</td>\n",
       "      <td>275.799988</td>\n",
       "      <td>275.799988</td>\n",
       "      <td>275.799988</td>\n",
       "      <td>275.799988</td>\n",
       "      <td>2.0</td>\n",
       "      <td>275.799988</td>\n",
       "      <td>2000-09-05</td>\n",
       "    </tr>\n",
       "    <tr>\n",
       "      <th>4</th>\n",
       "      <td>968212800</td>\n",
       "      <td>274.200012</td>\n",
       "      <td>274.200012</td>\n",
       "      <td>274.200012</td>\n",
       "      <td>274.200012</td>\n",
       "      <td>0.0</td>\n",
       "      <td>274.200012</td>\n",
       "      <td>2000-09-06</td>\n",
       "    </tr>\n",
       "  </tbody>\n",
       "</table>\n",
       "</div>"
      ],
      "text/plain": [
       "        date        high         low        open       close  volume  \\\n",
       "0  967694400  278.299988  274.799988  274.799988  278.299988     0.0   \n",
       "1  967780800  277.000000  277.000000  277.000000  277.000000     0.0   \n",
       "2  968040000         NaN         NaN         NaN         NaN     NaN   \n",
       "3  968126400  275.799988  275.799988  275.799988  275.799988     2.0   \n",
       "4  968212800  274.200012  274.200012  274.200012  274.200012     0.0   \n",
       "\n",
       "     adjclose formatted_date  \n",
       "0  278.299988     2000-08-31  \n",
       "1  277.000000     2000-09-01  \n",
       "2         NaN     2000-09-04  \n",
       "3  275.799988     2000-09-05  \n",
       "4  274.200012     2000-09-06  "
      ]
     },
     "execution_count": 5,
     "metadata": {},
     "output_type": "execute_result"
    }
   ],
   "source": [
    "gold_df = get_yahoofin_dataframe(gold_ticker, start_date, end_date, 'daily')\n",
    "gold_df.head()"
   ]
  },
  {
   "cell_type": "code",
   "execution_count": 6,
   "metadata": {
    "colab": {
     "base_uri": "https://localhost:8080/",
     "height": 206
    },
    "executionInfo": {
     "elapsed": 532,
     "status": "ok",
     "timestamp": 1660187708563,
     "user": {
      "displayName": "Vinod Dhole",
      "userId": "09410569866548331327"
     },
     "user_tz": 240
    },
    "id": "8bumLbST5RXQ",
    "outputId": "bf53604f-48bd-4d3a-b0d5-994a0a2a56af"
   },
   "outputs": [
    {
     "data": {
      "text/html": [
       "<div>\n",
       "<style scoped>\n",
       "    .dataframe tbody tr th:only-of-type {\n",
       "        vertical-align: middle;\n",
       "    }\n",
       "\n",
       "    .dataframe tbody tr th {\n",
       "        vertical-align: top;\n",
       "    }\n",
       "\n",
       "    .dataframe thead th {\n",
       "        text-align: right;\n",
       "    }\n",
       "</style>\n",
       "<table border=\"1\" class=\"dataframe\">\n",
       "  <thead>\n",
       "    <tr style=\"text-align: right;\">\n",
       "      <th></th>\n",
       "      <th>date</th>\n",
       "      <th>high</th>\n",
       "      <th>low</th>\n",
       "      <th>open</th>\n",
       "      <th>close</th>\n",
       "      <th>volume</th>\n",
       "      <th>adjclose</th>\n",
       "      <th>formatted_date</th>\n",
       "    </tr>\n",
       "  </thead>\n",
       "  <tbody>\n",
       "    <tr>\n",
       "      <th>0</th>\n",
       "      <td>967728600</td>\n",
       "      <td>1525.209961</td>\n",
       "      <td>1502.589966</td>\n",
       "      <td>1502.589966</td>\n",
       "      <td>1517.680054</td>\n",
       "      <td>1056600000</td>\n",
       "      <td>1517.680054</td>\n",
       "      <td>2000-08-31</td>\n",
       "    </tr>\n",
       "    <tr>\n",
       "      <th>1</th>\n",
       "      <td>967815000</td>\n",
       "      <td>1530.089966</td>\n",
       "      <td>1515.530029</td>\n",
       "      <td>1517.680054</td>\n",
       "      <td>1520.770020</td>\n",
       "      <td>767700000</td>\n",
       "      <td>1520.770020</td>\n",
       "      <td>2000-09-01</td>\n",
       "    </tr>\n",
       "    <tr>\n",
       "      <th>2</th>\n",
       "      <td>968160600</td>\n",
       "      <td>1520.770020</td>\n",
       "      <td>1504.209961</td>\n",
       "      <td>1520.770020</td>\n",
       "      <td>1507.079956</td>\n",
       "      <td>838500000</td>\n",
       "      <td>1507.079956</td>\n",
       "      <td>2000-09-05</td>\n",
       "    </tr>\n",
       "    <tr>\n",
       "      <th>3</th>\n",
       "      <td>968247000</td>\n",
       "      <td>1512.609985</td>\n",
       "      <td>1492.119995</td>\n",
       "      <td>1507.079956</td>\n",
       "      <td>1492.250000</td>\n",
       "      <td>995100000</td>\n",
       "      <td>1492.250000</td>\n",
       "      <td>2000-09-06</td>\n",
       "    </tr>\n",
       "    <tr>\n",
       "      <th>4</th>\n",
       "      <td>968333400</td>\n",
       "      <td>1505.339966</td>\n",
       "      <td>1492.250000</td>\n",
       "      <td>1492.250000</td>\n",
       "      <td>1502.510010</td>\n",
       "      <td>985500000</td>\n",
       "      <td>1502.510010</td>\n",
       "      <td>2000-09-07</td>\n",
       "    </tr>\n",
       "  </tbody>\n",
       "</table>\n",
       "</div>"
      ],
      "text/plain": [
       "        date         high          low         open        close      volume  \\\n",
       "0  967728600  1525.209961  1502.589966  1502.589966  1517.680054  1056600000   \n",
       "1  967815000  1530.089966  1515.530029  1517.680054  1520.770020   767700000   \n",
       "2  968160600  1520.770020  1504.209961  1520.770020  1507.079956   838500000   \n",
       "3  968247000  1512.609985  1492.119995  1507.079956  1492.250000   995100000   \n",
       "4  968333400  1505.339966  1492.250000  1492.250000  1502.510010   985500000   \n",
       "\n",
       "      adjclose formatted_date  \n",
       "0  1517.680054     2000-08-31  \n",
       "1  1520.770020     2000-09-01  \n",
       "2  1507.079956     2000-09-05  \n",
       "3  1492.250000     2000-09-06  \n",
       "4  1502.510010     2000-09-07  "
      ]
     },
     "execution_count": 6,
     "metadata": {},
     "output_type": "execute_result"
    }
   ],
   "source": [
    "sp500_df = get_yahoofin_dataframe(sp500_ticker, start_date, end_date, 'daily')\n",
    "sp500_df.head()"
   ]
  },
  {
   "cell_type": "code",
   "execution_count": 7,
   "metadata": {
    "colab": {
     "base_uri": "https://localhost:8080/"
    },
    "executionInfo": {
     "elapsed": 7,
     "status": "ok",
     "timestamp": 1660187708564,
     "user": {
      "displayName": "Vinod Dhole",
      "userId": "09410569866548331327"
     },
     "user_tz": 240
    },
    "id": "mRD-mN7f5RXR",
    "outputId": "954e118d-1d37-48ee-e964-32f726c88143"
   },
   "outputs": [
    {
     "name": "stdout",
     "output_type": "stream",
     "text": [
      "(5595, 8)\n",
      "(5526, 8)\n"
     ]
    }
   ],
   "source": [
    "print(gold_df.shape)\n",
    "print(sp500_df.shape)"
   ]
  },
  {
   "cell_type": "code",
   "execution_count": 8,
   "metadata": {
    "executionInfo": {
     "elapsed": 1,
     "status": "ok",
     "timestamp": 1660187709832,
     "user": {
      "displayName": "Vinod Dhole",
      "userId": "09410569866548331327"
     },
     "user_tz": 240
    },
    "id": "oNFj1UId5RXR"
   },
   "outputs": [],
   "source": [
    "gold_df.drop('date',axis=1, inplace=True)\n",
    "sp500_df.drop('date',axis=1, inplace=True)"
   ]
  },
  {
   "cell_type": "code",
   "execution_count": 9,
   "metadata": {
    "colab": {
     "base_uri": "https://localhost:8080/"
    },
    "executionInfo": {
     "elapsed": 222,
     "status": "ok",
     "timestamp": 1660187710304,
     "user": {
      "displayName": "Vinod Dhole",
      "userId": "09410569866548331327"
     },
     "user_tz": 240
    },
    "id": "dnqv8i5N5RXR",
    "outputId": "1752ca03-3c4a-42d7-a5a6-6d26f65675a8"
   },
   "outputs": [
    {
     "name": "stdout",
     "output_type": "stream",
     "text": [
      "<class 'pandas.core.frame.DataFrame'>\n",
      "RangeIndex: 5595 entries, 0 to 5594\n",
      "Data columns (total 7 columns):\n",
      " #   Column          Non-Null Count  Dtype  \n",
      "---  ------          --------------  -----  \n",
      " 0   high            5511 non-null   float64\n",
      " 1   low             5511 non-null   float64\n",
      " 2   open            5511 non-null   float64\n",
      " 3   close           5511 non-null   float64\n",
      " 4   volume          5511 non-null   float64\n",
      " 5   adjclose        5511 non-null   float64\n",
      " 6   formatted_date  5595 non-null   object \n",
      "dtypes: float64(6), object(1)\n",
      "memory usage: 306.1+ KB\n"
     ]
    }
   ],
   "source": [
    "gold_df.info()"
   ]
  },
  {
   "cell_type": "code",
   "execution_count": 10,
   "metadata": {
    "executionInfo": {
     "elapsed": 223,
     "status": "ok",
     "timestamp": 1660187714525,
     "user": {
      "displayName": "Vinod Dhole",
      "userId": "09410569866548331327"
     },
     "user_tz": 240
    },
    "id": "AEi6aPQ_5RXR"
   },
   "outputs": [],
   "source": [
    "sp500_df.formatted_date = pd.to_datetime(sp500_df.formatted_date)\n",
    "gold_df.formatted_date = pd.to_datetime(gold_df.formatted_date)"
   ]
  },
  {
   "cell_type": "code",
   "execution_count": 11,
   "metadata": {
    "colab": {
     "base_uri": "https://localhost:8080/"
    },
    "executionInfo": {
     "elapsed": 2,
     "status": "ok",
     "timestamp": 1660187714806,
     "user": {
      "displayName": "Vinod Dhole",
      "userId": "09410569866548331327"
     },
     "user_tz": 240
    },
    "id": "Eirez5J65RXR",
    "outputId": "e8802228-2428-4978-c236-0c58a4c5e6c6"
   },
   "outputs": [
    {
     "name": "stdout",
     "output_type": "stream",
     "text": [
      "Data Type of formatted_date :  <class 'pandas._libs.tslibs.timestamps.Timestamp'>\n"
     ]
    }
   ],
   "source": [
    "print('Data Type of formatted_date : ',type(sp500_df.formatted_date[0]))"
   ]
  },
  {
   "cell_type": "code",
   "execution_count": 12,
   "metadata": {
    "colab": {
     "base_uri": "https://localhost:8080/"
    },
    "executionInfo": {
     "elapsed": 1,
     "status": "ok",
     "timestamp": 1660187715404,
     "user": {
      "displayName": "Vinod Dhole",
      "userId": "09410569866548331327"
     },
     "user_tz": 240
    },
    "id": "fP-pQiFX5RXS",
    "outputId": "f0160e8f-69e4-4ffd-d353-6328d8d9e825"
   },
   "outputs": [
    {
     "data": {
      "text/plain": [
       "high              0\n",
       "low               0\n",
       "open              0\n",
       "close             0\n",
       "volume            0\n",
       "adjclose          0\n",
       "formatted_date    0\n",
       "dtype: int64"
      ]
     },
     "execution_count": 12,
     "metadata": {},
     "output_type": "execute_result"
    }
   ],
   "source": [
    "sp500_df.isnull().sum()"
   ]
  },
  {
   "cell_type": "code",
   "execution_count": 13,
   "metadata": {
    "colab": {
     "base_uri": "https://localhost:8080/"
    },
    "executionInfo": {
     "elapsed": 2,
     "status": "ok",
     "timestamp": 1660187716170,
     "user": {
      "displayName": "Vinod Dhole",
      "userId": "09410569866548331327"
     },
     "user_tz": 240
    },
    "id": "x6y4PWmQ5RXS",
    "outputId": "d0b2254d-9753-4f5f-9a2c-5b39ce00fb1f"
   },
   "outputs": [
    {
     "data": {
      "text/plain": [
       "high              84\n",
       "low               84\n",
       "open              84\n",
       "close             84\n",
       "volume            84\n",
       "adjclose          84\n",
       "formatted_date     0\n",
       "dtype: int64"
      ]
     },
     "execution_count": 13,
     "metadata": {},
     "output_type": "execute_result"
    }
   ],
   "source": [
    "gold_df.isnull().sum()"
   ]
  },
  {
   "cell_type": "code",
   "execution_count": 14,
   "metadata": {
    "colab": {
     "base_uri": "https://localhost:8080/",
     "height": 424
    },
    "executionInfo": {
     "elapsed": 2,
     "status": "ok",
     "timestamp": 1660187716986,
     "user": {
      "displayName": "Vinod Dhole",
      "userId": "09410569866548331327"
     },
     "user_tz": 240
    },
    "id": "eVKqhaVq5RXS",
    "outputId": "004a7b4e-83db-4a47-fe35-dfc8ac483d52"
   },
   "outputs": [
    {
     "data": {
      "text/html": [
       "<div>\n",
       "<style scoped>\n",
       "    .dataframe tbody tr th:only-of-type {\n",
       "        vertical-align: middle;\n",
       "    }\n",
       "\n",
       "    .dataframe tbody tr th {\n",
       "        vertical-align: top;\n",
       "    }\n",
       "\n",
       "    .dataframe thead th {\n",
       "        text-align: right;\n",
       "    }\n",
       "</style>\n",
       "<table border=\"1\" class=\"dataframe\">\n",
       "  <thead>\n",
       "    <tr style=\"text-align: right;\">\n",
       "      <th></th>\n",
       "      <th>high</th>\n",
       "      <th>low</th>\n",
       "      <th>open</th>\n",
       "      <th>close</th>\n",
       "      <th>volume</th>\n",
       "      <th>adjclose</th>\n",
       "      <th>formatted_date</th>\n",
       "    </tr>\n",
       "  </thead>\n",
       "  <tbody>\n",
       "    <tr>\n",
       "      <th>2</th>\n",
       "      <td>NaN</td>\n",
       "      <td>NaN</td>\n",
       "      <td>NaN</td>\n",
       "      <td>NaN</td>\n",
       "      <td>NaN</td>\n",
       "      <td>NaN</td>\n",
       "      <td>2000-09-04</td>\n",
       "    </tr>\n",
       "    <tr>\n",
       "      <th>60</th>\n",
       "      <td>NaN</td>\n",
       "      <td>NaN</td>\n",
       "      <td>NaN</td>\n",
       "      <td>NaN</td>\n",
       "      <td>NaN</td>\n",
       "      <td>NaN</td>\n",
       "      <td>2000-11-23</td>\n",
       "    </tr>\n",
       "    <tr>\n",
       "      <th>61</th>\n",
       "      <td>NaN</td>\n",
       "      <td>NaN</td>\n",
       "      <td>NaN</td>\n",
       "      <td>NaN</td>\n",
       "      <td>NaN</td>\n",
       "      <td>NaN</td>\n",
       "      <td>2000-11-24</td>\n",
       "    </tr>\n",
       "    <tr>\n",
       "      <th>82</th>\n",
       "      <td>NaN</td>\n",
       "      <td>NaN</td>\n",
       "      <td>NaN</td>\n",
       "      <td>NaN</td>\n",
       "      <td>NaN</td>\n",
       "      <td>NaN</td>\n",
       "      <td>2000-12-25</td>\n",
       "    </tr>\n",
       "    <tr>\n",
       "      <th>87</th>\n",
       "      <td>NaN</td>\n",
       "      <td>NaN</td>\n",
       "      <td>NaN</td>\n",
       "      <td>NaN</td>\n",
       "      <td>NaN</td>\n",
       "      <td>NaN</td>\n",
       "      <td>2001-01-01</td>\n",
       "    </tr>\n",
       "    <tr>\n",
       "      <th>...</th>\n",
       "      <td>...</td>\n",
       "      <td>...</td>\n",
       "      <td>...</td>\n",
       "      <td>...</td>\n",
       "      <td>...</td>\n",
       "      <td>...</td>\n",
       "      <td>...</td>\n",
       "    </tr>\n",
       "    <tr>\n",
       "      <th>3952</th>\n",
       "      <td>NaN</td>\n",
       "      <td>NaN</td>\n",
       "      <td>NaN</td>\n",
       "      <td>NaN</td>\n",
       "      <td>NaN</td>\n",
       "      <td>NaN</td>\n",
       "      <td>2016-02-15</td>\n",
       "    </tr>\n",
       "    <tr>\n",
       "      <th>4443</th>\n",
       "      <td>NaN</td>\n",
       "      <td>NaN</td>\n",
       "      <td>NaN</td>\n",
       "      <td>NaN</td>\n",
       "      <td>NaN</td>\n",
       "      <td>NaN</td>\n",
       "      <td>2018-01-29</td>\n",
       "    </tr>\n",
       "    <tr>\n",
       "      <th>5536</th>\n",
       "      <td>NaN</td>\n",
       "      <td>NaN</td>\n",
       "      <td>NaN</td>\n",
       "      <td>NaN</td>\n",
       "      <td>NaN</td>\n",
       "      <td>NaN</td>\n",
       "      <td>2022-05-30</td>\n",
       "    </tr>\n",
       "    <tr>\n",
       "      <th>5551</th>\n",
       "      <td>NaN</td>\n",
       "      <td>NaN</td>\n",
       "      <td>NaN</td>\n",
       "      <td>NaN</td>\n",
       "      <td>NaN</td>\n",
       "      <td>NaN</td>\n",
       "      <td>2022-06-20</td>\n",
       "    </tr>\n",
       "    <tr>\n",
       "      <th>5561</th>\n",
       "      <td>NaN</td>\n",
       "      <td>NaN</td>\n",
       "      <td>NaN</td>\n",
       "      <td>NaN</td>\n",
       "      <td>NaN</td>\n",
       "      <td>NaN</td>\n",
       "      <td>2022-07-04</td>\n",
       "    </tr>\n",
       "  </tbody>\n",
       "</table>\n",
       "<p>84 rows × 7 columns</p>\n",
       "</div>"
      ],
      "text/plain": [
       "      high  low  open  close  volume  adjclose formatted_date\n",
       "2      NaN  NaN   NaN    NaN     NaN       NaN     2000-09-04\n",
       "60     NaN  NaN   NaN    NaN     NaN       NaN     2000-11-23\n",
       "61     NaN  NaN   NaN    NaN     NaN       NaN     2000-11-24\n",
       "82     NaN  NaN   NaN    NaN     NaN       NaN     2000-12-25\n",
       "87     NaN  NaN   NaN    NaN     NaN       NaN     2001-01-01\n",
       "...    ...  ...   ...    ...     ...       ...            ...\n",
       "3952   NaN  NaN   NaN    NaN     NaN       NaN     2016-02-15\n",
       "4443   NaN  NaN   NaN    NaN     NaN       NaN     2018-01-29\n",
       "5536   NaN  NaN   NaN    NaN     NaN       NaN     2022-05-30\n",
       "5551   NaN  NaN   NaN    NaN     NaN       NaN     2022-06-20\n",
       "5561   NaN  NaN   NaN    NaN     NaN       NaN     2022-07-04\n",
       "\n",
       "[84 rows x 7 columns]"
      ]
     },
     "execution_count": 14,
     "metadata": {},
     "output_type": "execute_result"
    }
   ],
   "source": [
    "gold_df[gold_df.high.isna()]"
   ]
  },
  {
   "cell_type": "code",
   "execution_count": 15,
   "metadata": {
    "colab": {
     "base_uri": "https://localhost:8080/"
    },
    "executionInfo": {
     "elapsed": 260,
     "status": "ok",
     "timestamp": 1660187717489,
     "user": {
      "displayName": "Vinod Dhole",
      "userId": "09410569866548331327"
     },
     "user_tz": 240
    },
    "id": "zVC2K4yy5RXS",
    "outputId": "0f94315e-ebc3-43fa-a219-f0bd38176543"
   },
   "outputs": [
    {
     "data": {
      "text/plain": [
       "high              0\n",
       "low               0\n",
       "open              0\n",
       "close             0\n",
       "volume            0\n",
       "adjclose          0\n",
       "formatted_date    0\n",
       "dtype: int64"
      ]
     },
     "execution_count": 15,
     "metadata": {},
     "output_type": "execute_result"
    }
   ],
   "source": [
    "gold_df.fillna(method='ffill',inplace=True)\n",
    "gold_df.isnull().sum()"
   ]
  },
  {
   "cell_type": "code",
   "execution_count": 16,
   "metadata": {
    "colab": {
     "base_uri": "https://localhost:8080/"
    },
    "executionInfo": {
     "elapsed": 3,
     "status": "ok",
     "timestamp": 1660187718455,
     "user": {
      "displayName": "Vinod Dhole",
      "userId": "09410569866548331327"
     },
     "user_tz": 240
    },
    "id": "LIeBEbVH5RXS",
    "outputId": "7e6decc5-bf8b-460f-cfa1-56993ad2bb68"
   },
   "outputs": [
    {
     "data": {
      "text/plain": [
       "0"
      ]
     },
     "execution_count": 16,
     "metadata": {},
     "output_type": "execute_result"
    }
   ],
   "source": [
    "sp500_df.duplicated().sum()\n",
    "gold_df.duplicated().sum()"
   ]
  },
  {
   "cell_type": "code",
   "execution_count": 17,
   "metadata": {
    "executionInfo": {
     "elapsed": 236,
     "status": "ok",
     "timestamp": 1660187719204,
     "user": {
      "displayName": "Vinod Dhole",
      "userId": "09410569866548331327"
     },
     "user_tz": 240
    },
    "id": "0dylLOxp5RXS"
   },
   "outputs": [],
   "source": [
    "sp500_df.set_index('formatted_date', inplace=True)\n",
    "gold_df.set_index('formatted_date', inplace=True)\n",
    "sp500_df.sort_index(inplace=True)\n",
    "gold_df.sort_index(inplace=True)"
   ]
  },
  {
   "cell_type": "code",
   "execution_count": 18,
   "metadata": {
    "executionInfo": {
     "elapsed": 2,
     "status": "ok",
     "timestamp": 1660187719989,
     "user": {
      "displayName": "Vinod Dhole",
      "userId": "09410569866548331327"
     },
     "user_tz": 240
    },
    "id": "bcHqXSdA5RXS"
   },
   "outputs": [],
   "source": [
    "sp500_df['asset_class'] = 'S&P 500'\n",
    "gold_df['asset_class'] = 'Gold'"
   ]
  },
  {
   "cell_type": "code",
   "execution_count": 19,
   "metadata": {
    "executionInfo": {
     "elapsed": 330,
     "status": "ok",
     "timestamp": 1660187720944,
     "user": {
      "displayName": "Vinod Dhole",
      "userId": "09410569866548331327"
     },
     "user_tz": 240
    },
    "id": "9mL4bxFt5RXT"
   },
   "outputs": [],
   "source": [
    "sp500_df['year'] = sp500_df.index.year\n",
    "gold_df['year'] = gold_df.index.year\n",
    "\n",
    "sp500_df['month'] = sp500_df.index.month\n",
    "gold_df['month'] = gold_df.index.month\n",
    "\n",
    "sp500_df['year_month'] = sp500_df.year.map(str) +'-'+ sp500_df.month.map(str)\n",
    "gold_df['year_month'] = gold_df.year.map(str) +'-'+ gold_df.month.map(str)"
   ]
  },
  {
   "cell_type": "code",
   "execution_count": 20,
   "metadata": {
    "colab": {
     "base_uri": "https://localhost:8080/",
     "height": 238
    },
    "executionInfo": {
     "elapsed": 366,
     "status": "ok",
     "timestamp": 1660187721618,
     "user": {
      "displayName": "Vinod Dhole",
      "userId": "09410569866548331327"
     },
     "user_tz": 240
    },
    "id": "j5YJ9Ifs5RXT",
    "outputId": "a1c2ae04-eb3c-4894-fe4b-917f3cb0f85d"
   },
   "outputs": [
    {
     "data": {
      "text/html": [
       "<div>\n",
       "<style scoped>\n",
       "    .dataframe tbody tr th:only-of-type {\n",
       "        vertical-align: middle;\n",
       "    }\n",
       "\n",
       "    .dataframe tbody tr th {\n",
       "        vertical-align: top;\n",
       "    }\n",
       "\n",
       "    .dataframe thead th {\n",
       "        text-align: right;\n",
       "    }\n",
       "</style>\n",
       "<table border=\"1\" class=\"dataframe\">\n",
       "  <thead>\n",
       "    <tr style=\"text-align: right;\">\n",
       "      <th></th>\n",
       "      <th>high</th>\n",
       "      <th>low</th>\n",
       "      <th>open</th>\n",
       "      <th>close</th>\n",
       "      <th>volume</th>\n",
       "      <th>adjclose</th>\n",
       "      <th>asset_class</th>\n",
       "      <th>year</th>\n",
       "      <th>month</th>\n",
       "      <th>year_month</th>\n",
       "    </tr>\n",
       "    <tr>\n",
       "      <th>formatted_date</th>\n",
       "      <th></th>\n",
       "      <th></th>\n",
       "      <th></th>\n",
       "      <th></th>\n",
       "      <th></th>\n",
       "      <th></th>\n",
       "      <th></th>\n",
       "      <th></th>\n",
       "      <th></th>\n",
       "      <th></th>\n",
       "    </tr>\n",
       "  </thead>\n",
       "  <tbody>\n",
       "    <tr>\n",
       "      <th>2002-11-19</th>\n",
       "      <td>905.450012</td>\n",
       "      <td>893.090027</td>\n",
       "      <td>900.359985</td>\n",
       "      <td>896.739990</td>\n",
       "      <td>1337400000</td>\n",
       "      <td>896.739990</td>\n",
       "      <td>S&amp;P 500</td>\n",
       "      <td>2002</td>\n",
       "      <td>11</td>\n",
       "      <td>2002-11</td>\n",
       "    </tr>\n",
       "    <tr>\n",
       "      <th>2016-01-14</th>\n",
       "      <td>1934.469971</td>\n",
       "      <td>1878.930054</td>\n",
       "      <td>1891.680054</td>\n",
       "      <td>1921.839966</td>\n",
       "      <td>5241110000</td>\n",
       "      <td>1921.839966</td>\n",
       "      <td>S&amp;P 500</td>\n",
       "      <td>2016</td>\n",
       "      <td>1</td>\n",
       "      <td>2016-1</td>\n",
       "    </tr>\n",
       "    <tr>\n",
       "      <th>2001-06-20</th>\n",
       "      <td>1225.609985</td>\n",
       "      <td>1210.069946</td>\n",
       "      <td>1212.579956</td>\n",
       "      <td>1223.140015</td>\n",
       "      <td>1350100000</td>\n",
       "      <td>1223.140015</td>\n",
       "      <td>S&amp;P 500</td>\n",
       "      <td>2001</td>\n",
       "      <td>6</td>\n",
       "      <td>2001-6</td>\n",
       "    </tr>\n",
       "    <tr>\n",
       "      <th>2008-04-18</th>\n",
       "      <td>1395.900024</td>\n",
       "      <td>1369.000000</td>\n",
       "      <td>1369.000000</td>\n",
       "      <td>1390.329956</td>\n",
       "      <td>4222380000</td>\n",
       "      <td>1390.329956</td>\n",
       "      <td>S&amp;P 500</td>\n",
       "      <td>2008</td>\n",
       "      <td>4</td>\n",
       "      <td>2008-4</td>\n",
       "    </tr>\n",
       "    <tr>\n",
       "      <th>2021-11-12</th>\n",
       "      <td>4688.470215</td>\n",
       "      <td>4650.770020</td>\n",
       "      <td>4655.240234</td>\n",
       "      <td>4682.850098</td>\n",
       "      <td>2865790000</td>\n",
       "      <td>4682.850098</td>\n",
       "      <td>S&amp;P 500</td>\n",
       "      <td>2021</td>\n",
       "      <td>11</td>\n",
       "      <td>2021-11</td>\n",
       "    </tr>\n",
       "  </tbody>\n",
       "</table>\n",
       "</div>"
      ],
      "text/plain": [
       "                       high          low         open        close  \\\n",
       "formatted_date                                                       \n",
       "2002-11-19       905.450012   893.090027   900.359985   896.739990   \n",
       "2016-01-14      1934.469971  1878.930054  1891.680054  1921.839966   \n",
       "2001-06-20      1225.609985  1210.069946  1212.579956  1223.140015   \n",
       "2008-04-18      1395.900024  1369.000000  1369.000000  1390.329956   \n",
       "2021-11-12      4688.470215  4650.770020  4655.240234  4682.850098   \n",
       "\n",
       "                    volume     adjclose asset_class  year  month year_month  \n",
       "formatted_date                                                               \n",
       "2002-11-19      1337400000   896.739990     S&P 500  2002     11    2002-11  \n",
       "2016-01-14      5241110000  1921.839966     S&P 500  2016      1     2016-1  \n",
       "2001-06-20      1350100000  1223.140015     S&P 500  2001      6     2001-6  \n",
       "2008-04-18      4222380000  1390.329956     S&P 500  2008      4     2008-4  \n",
       "2021-11-12      2865790000  4682.850098     S&P 500  2021     11    2021-11  "
      ]
     },
     "execution_count": 20,
     "metadata": {},
     "output_type": "execute_result"
    }
   ],
   "source": [
    "sp500_df.sample(5)"
   ]
  },
  {
   "cell_type": "code",
   "execution_count": 21,
   "metadata": {
    "colab": {
     "base_uri": "https://localhost:8080/",
     "height": 238
    },
    "executionInfo": {
     "elapsed": 8,
     "status": "ok",
     "timestamp": 1660187721998,
     "user": {
      "displayName": "Vinod Dhole",
      "userId": "09410569866548331327"
     },
     "user_tz": 240
    },
    "id": "e-5-r_qB5RXT",
    "outputId": "43980690-f8d3-44c0-f609-6190437991f6"
   },
   "outputs": [
    {
     "data": {
      "text/html": [
       "<div>\n",
       "<style scoped>\n",
       "    .dataframe tbody tr th:only-of-type {\n",
       "        vertical-align: middle;\n",
       "    }\n",
       "\n",
       "    .dataframe tbody tr th {\n",
       "        vertical-align: top;\n",
       "    }\n",
       "\n",
       "    .dataframe thead th {\n",
       "        text-align: right;\n",
       "    }\n",
       "</style>\n",
       "<table border=\"1\" class=\"dataframe\">\n",
       "  <thead>\n",
       "    <tr style=\"text-align: right;\">\n",
       "      <th></th>\n",
       "      <th>high</th>\n",
       "      <th>low</th>\n",
       "      <th>open</th>\n",
       "      <th>close</th>\n",
       "      <th>volume</th>\n",
       "      <th>adjclose</th>\n",
       "      <th>asset_class</th>\n",
       "      <th>year</th>\n",
       "      <th>month</th>\n",
       "      <th>year_month</th>\n",
       "    </tr>\n",
       "    <tr>\n",
       "      <th>formatted_date</th>\n",
       "      <th></th>\n",
       "      <th></th>\n",
       "      <th></th>\n",
       "      <th></th>\n",
       "      <th></th>\n",
       "      <th></th>\n",
       "      <th></th>\n",
       "      <th></th>\n",
       "      <th></th>\n",
       "      <th></th>\n",
       "    </tr>\n",
       "  </thead>\n",
       "  <tbody>\n",
       "    <tr>\n",
       "      <th>2006-11-15</th>\n",
       "      <td>622.500000</td>\n",
       "      <td>622.500000</td>\n",
       "      <td>622.500000</td>\n",
       "      <td>622.500000</td>\n",
       "      <td>0.0</td>\n",
       "      <td>622.500000</td>\n",
       "      <td>Gold</td>\n",
       "      <td>2006</td>\n",
       "      <td>11</td>\n",
       "      <td>2006-11</td>\n",
       "    </tr>\n",
       "    <tr>\n",
       "      <th>2019-05-24</th>\n",
       "      <td>1283.000000</td>\n",
       "      <td>1283.000000</td>\n",
       "      <td>1283.000000</td>\n",
       "      <td>1283.000000</td>\n",
       "      <td>9.0</td>\n",
       "      <td>1283.000000</td>\n",
       "      <td>Gold</td>\n",
       "      <td>2019</td>\n",
       "      <td>5</td>\n",
       "      <td>2019-5</td>\n",
       "    </tr>\n",
       "    <tr>\n",
       "      <th>2004-06-07</th>\n",
       "      <td>394.000000</td>\n",
       "      <td>392.000000</td>\n",
       "      <td>392.600006</td>\n",
       "      <td>393.799988</td>\n",
       "      <td>130.0</td>\n",
       "      <td>393.799988</td>\n",
       "      <td>Gold</td>\n",
       "      <td>2004</td>\n",
       "      <td>6</td>\n",
       "      <td>2004-6</td>\n",
       "    </tr>\n",
       "    <tr>\n",
       "      <th>2014-12-02</th>\n",
       "      <td>1212.300049</td>\n",
       "      <td>1191.300049</td>\n",
       "      <td>1212.300049</td>\n",
       "      <td>1199.199951</td>\n",
       "      <td>1236.0</td>\n",
       "      <td>1199.199951</td>\n",
       "      <td>Gold</td>\n",
       "      <td>2014</td>\n",
       "      <td>12</td>\n",
       "      <td>2014-12</td>\n",
       "    </tr>\n",
       "    <tr>\n",
       "      <th>2003-01-09</th>\n",
       "      <td>353.299988</td>\n",
       "      <td>353.299988</td>\n",
       "      <td>353.299988</td>\n",
       "      <td>353.299988</td>\n",
       "      <td>2.0</td>\n",
       "      <td>353.299988</td>\n",
       "      <td>Gold</td>\n",
       "      <td>2003</td>\n",
       "      <td>1</td>\n",
       "      <td>2003-1</td>\n",
       "    </tr>\n",
       "  </tbody>\n",
       "</table>\n",
       "</div>"
      ],
      "text/plain": [
       "                       high          low         open        close  volume  \\\n",
       "formatted_date                                                               \n",
       "2006-11-15       622.500000   622.500000   622.500000   622.500000     0.0   \n",
       "2019-05-24      1283.000000  1283.000000  1283.000000  1283.000000     9.0   \n",
       "2004-06-07       394.000000   392.000000   392.600006   393.799988   130.0   \n",
       "2014-12-02      1212.300049  1191.300049  1212.300049  1199.199951  1236.0   \n",
       "2003-01-09       353.299988   353.299988   353.299988   353.299988     2.0   \n",
       "\n",
       "                   adjclose asset_class  year  month year_month  \n",
       "formatted_date                                                   \n",
       "2006-11-15       622.500000        Gold  2006     11    2006-11  \n",
       "2019-05-24      1283.000000        Gold  2019      5     2019-5  \n",
       "2004-06-07       393.799988        Gold  2004      6     2004-6  \n",
       "2014-12-02      1199.199951        Gold  2014     12    2014-12  \n",
       "2003-01-09       353.299988        Gold  2003      1     2003-1  "
      ]
     },
     "execution_count": 21,
     "metadata": {},
     "output_type": "execute_result"
    }
   ],
   "source": [
    "gold_df.sample(5)"
   ]
  },
  {
   "cell_type": "code",
   "execution_count": 22,
   "metadata": {
    "executionInfo": {
     "elapsed": 1242,
     "status": "ok",
     "timestamp": 1660187725418,
     "user": {
      "displayName": "Vinod Dhole",
      "userId": "09410569866548331327"
     },
     "user_tz": 240
    },
    "id": "LatpEUgM5RXT"
   },
   "outputs": [],
   "source": [
    "import matplotlib\n",
    "import matplotlib.pyplot as plt\n",
    "import seaborn as sns\n",
    "import plotly.express as px\n",
    "from plotly.subplots import make_subplots\n",
    "import plotly.graph_objs as go\n",
    "import plotly.offline as py\n",
    "%matplotlib inline\n",
    "\n",
    "## Default settings\n",
    "sns.set_style('darkgrid')\n",
    "matplotlib.rcParams['font.size'] = 14\n",
    "matplotlib.rcParams['figure.figsize'] = (9, 5)\n",
    "matplotlib.rcParams['figure.facecolor'] = '#00000000'"
   ]
  },
  {
   "cell_type": "code",
   "execution_count": 23,
   "metadata": {
    "colab": {
     "base_uri": "https://localhost:8080/",
     "height": 238
    },
    "executionInfo": {
     "elapsed": 383,
     "status": "ok",
     "timestamp": 1660187725800,
     "user": {
      "displayName": "Vinod Dhole",
      "userId": "09410569866548331327"
     },
     "user_tz": 240
    },
    "id": "fIFwlDKg5RXT",
    "outputId": "71aee899-5260-4b53-bcf7-66a9f4677c9e"
   },
   "outputs": [
    {
     "data": {
      "text/html": [
       "<div>\n",
       "<style scoped>\n",
       "    .dataframe tbody tr th:only-of-type {\n",
       "        vertical-align: middle;\n",
       "    }\n",
       "\n",
       "    .dataframe tbody tr th {\n",
       "        vertical-align: top;\n",
       "    }\n",
       "\n",
       "    .dataframe thead th {\n",
       "        text-align: right;\n",
       "    }\n",
       "</style>\n",
       "<table border=\"1\" class=\"dataframe\">\n",
       "  <thead>\n",
       "    <tr style=\"text-align: right;\">\n",
       "      <th></th>\n",
       "      <th>high</th>\n",
       "      <th>low</th>\n",
       "      <th>open</th>\n",
       "      <th>close</th>\n",
       "      <th>volume</th>\n",
       "      <th>adjclose</th>\n",
       "      <th>asset_class</th>\n",
       "      <th>year</th>\n",
       "      <th>month</th>\n",
       "      <th>year_month</th>\n",
       "    </tr>\n",
       "    <tr>\n",
       "      <th>formatted_date</th>\n",
       "      <th></th>\n",
       "      <th></th>\n",
       "      <th></th>\n",
       "      <th></th>\n",
       "      <th></th>\n",
       "      <th></th>\n",
       "      <th></th>\n",
       "      <th></th>\n",
       "      <th></th>\n",
       "      <th></th>\n",
       "    </tr>\n",
       "  </thead>\n",
       "  <tbody>\n",
       "    <tr>\n",
       "      <th>2000-09-12</th>\n",
       "      <td>1496.930054</td>\n",
       "      <td>1479.670044</td>\n",
       "      <td>1489.260010</td>\n",
       "      <td>1481.989990</td>\n",
       "      <td>9.912000e+08</td>\n",
       "      <td>1481.989990</td>\n",
       "      <td>S&amp;P 500</td>\n",
       "      <td>2000</td>\n",
       "      <td>9</td>\n",
       "      <td>2000-9</td>\n",
       "    </tr>\n",
       "    <tr>\n",
       "      <th>2005-03-02</th>\n",
       "      <td>433.399994</td>\n",
       "      <td>433.399994</td>\n",
       "      <td>433.399994</td>\n",
       "      <td>432.799988</td>\n",
       "      <td>1.000000e+00</td>\n",
       "      <td>432.799988</td>\n",
       "      <td>Gold</td>\n",
       "      <td>2005</td>\n",
       "      <td>3</td>\n",
       "      <td>2005-3</td>\n",
       "    </tr>\n",
       "    <tr>\n",
       "      <th>2006-01-04</th>\n",
       "      <td>1275.369995</td>\n",
       "      <td>1267.739990</td>\n",
       "      <td>1268.800049</td>\n",
       "      <td>1273.459961</td>\n",
       "      <td>2.515330e+09</td>\n",
       "      <td>1273.459961</td>\n",
       "      <td>S&amp;P 500</td>\n",
       "      <td>2006</td>\n",
       "      <td>1</td>\n",
       "      <td>2006-1</td>\n",
       "    </tr>\n",
       "    <tr>\n",
       "      <th>2007-10-05</th>\n",
       "      <td>741.700012</td>\n",
       "      <td>731.000000</td>\n",
       "      <td>731.000000</td>\n",
       "      <td>741.299988</td>\n",
       "      <td>6.000000e+00</td>\n",
       "      <td>741.299988</td>\n",
       "      <td>Gold</td>\n",
       "      <td>2007</td>\n",
       "      <td>10</td>\n",
       "      <td>2007-10</td>\n",
       "    </tr>\n",
       "    <tr>\n",
       "      <th>2016-04-21</th>\n",
       "      <td>1270.599976</td>\n",
       "      <td>1247.599976</td>\n",
       "      <td>1247.699951</td>\n",
       "      <td>1249.000000</td>\n",
       "      <td>1.240000e+02</td>\n",
       "      <td>1249.000000</td>\n",
       "      <td>Gold</td>\n",
       "      <td>2016</td>\n",
       "      <td>4</td>\n",
       "      <td>2016-4</td>\n",
       "    </tr>\n",
       "  </tbody>\n",
       "</table>\n",
       "</div>"
      ],
      "text/plain": [
       "                       high          low         open        close  \\\n",
       "formatted_date                                                       \n",
       "2000-09-12      1496.930054  1479.670044  1489.260010  1481.989990   \n",
       "2005-03-02       433.399994   433.399994   433.399994   432.799988   \n",
       "2006-01-04      1275.369995  1267.739990  1268.800049  1273.459961   \n",
       "2007-10-05       741.700012   731.000000   731.000000   741.299988   \n",
       "2016-04-21      1270.599976  1247.599976  1247.699951  1249.000000   \n",
       "\n",
       "                      volume     adjclose asset_class  year  month year_month  \n",
       "formatted_date                                                                 \n",
       "2000-09-12      9.912000e+08  1481.989990     S&P 500  2000      9     2000-9  \n",
       "2005-03-02      1.000000e+00   432.799988        Gold  2005      3     2005-3  \n",
       "2006-01-04      2.515330e+09  1273.459961     S&P 500  2006      1     2006-1  \n",
       "2007-10-05      6.000000e+00   741.299988        Gold  2007     10    2007-10  \n",
       "2016-04-21      1.240000e+02  1249.000000        Gold  2016      4     2016-4  "
      ]
     },
     "execution_count": 23,
     "metadata": {},
     "output_type": "execute_result"
    }
   ],
   "source": [
    "all_df = pd.concat([sp500_df,gold_df])\n",
    "all_df.sample(5)"
   ]
  },
  {
   "cell_type": "code",
   "execution_count": null,
   "metadata": {},
   "outputs": [],
   "source": [
    "fig = px.line(all_df,\n",
    "              x=all_df.index,\n",
    "              y=all_df.close,\n",
    "              color=all_df.asset_class, \n",
    "              color_discrete_sequence=[\"violet\", \"gold\"],\n",
    "              template = 'plotly_dark',\n",
    "              title='Historical view of the closing price')\n",
    "\n",
    "fig.update_layout(xaxis_title='Date', \n",
    "                  yaxis_title='Closing Price', \n",
    "                  legend_title='Asset Class')\n",
    "fig.show()"
   ]
  },
  {
   "cell_type": "code",
   "execution_count": 24,
   "metadata": {
    "colab": {
     "base_uri": "https://localhost:8080/",
     "height": 206
    },
    "executionInfo": {
     "elapsed": 7,
     "status": "ok",
     "timestamp": 1660187727906,
     "user": {
      "displayName": "Vinod Dhole",
      "userId": "09410569866548331327"
     },
     "user_tz": 240
    },
    "id": "YhxJqHlA5RXT",
    "outputId": "ac636ef5-a047-406e-c4ba-d16528bef646"
   },
   "outputs": [
    {
     "data": {
      "text/html": [
       "<div>\n",
       "<style scoped>\n",
       "    .dataframe tbody tr th:only-of-type {\n",
       "        vertical-align: middle;\n",
       "    }\n",
       "\n",
       "    .dataframe tbody tr th {\n",
       "        vertical-align: top;\n",
       "    }\n",
       "\n",
       "    .dataframe thead th {\n",
       "        text-align: right;\n",
       "    }\n",
       "</style>\n",
       "<table border=\"1\" class=\"dataframe\">\n",
       "  <thead>\n",
       "    <tr style=\"text-align: right;\">\n",
       "      <th></th>\n",
       "      <th>year_month</th>\n",
       "      <th>asset_class</th>\n",
       "      <th>volume</th>\n",
       "    </tr>\n",
       "  </thead>\n",
       "  <tbody>\n",
       "    <tr>\n",
       "      <th>0</th>\n",
       "      <td>2000-10</td>\n",
       "      <td>Gold</td>\n",
       "      <td>3.210000e+02</td>\n",
       "    </tr>\n",
       "    <tr>\n",
       "      <th>1</th>\n",
       "      <td>2000-10</td>\n",
       "      <td>S&amp;P 500</td>\n",
       "      <td>2.595140e+10</td>\n",
       "    </tr>\n",
       "    <tr>\n",
       "      <th>2</th>\n",
       "      <td>2000-11</td>\n",
       "      <td>Gold</td>\n",
       "      <td>3.246500e+04</td>\n",
       "    </tr>\n",
       "    <tr>\n",
       "      <th>3</th>\n",
       "      <td>2000-11</td>\n",
       "      <td>S&amp;P 500</td>\n",
       "      <td>2.053230e+10</td>\n",
       "    </tr>\n",
       "    <tr>\n",
       "      <th>4</th>\n",
       "      <td>2000-12</td>\n",
       "      <td>Gold</td>\n",
       "      <td>1.677000e+03</td>\n",
       "    </tr>\n",
       "  </tbody>\n",
       "</table>\n",
       "</div>"
      ],
      "text/plain": [
       "  year_month asset_class        volume\n",
       "0    2000-10        Gold  3.210000e+02\n",
       "1    2000-10     S&P 500  2.595140e+10\n",
       "2    2000-11        Gold  3.246500e+04\n",
       "3    2000-11     S&P 500  2.053230e+10\n",
       "4    2000-12        Gold  1.677000e+03"
      ]
     },
     "execution_count": 24,
     "metadata": {},
     "output_type": "execute_result"
    }
   ],
   "source": [
    "volume_df = all_df[['year_month','asset_class','volume']].groupby(by=['year_month','asset_class']).sum()\n",
    "volume_df.reset_index(inplace=True);\n",
    "volume_df.head(5)"
   ]
  },
  {
   "cell_type": "code",
   "execution_count": null,
   "metadata": {
    "colab": {
     "base_uri": "https://localhost:8080/",
     "height": 542
    },
    "executionInfo": {
     "elapsed": 386,
     "status": "ok",
     "timestamp": 1660187728287,
     "user": {
      "displayName": "Vinod Dhole",
      "userId": "09410569866548331327"
     },
     "user_tz": 240
    },
    "id": "9rlTRSLp5RXT",
    "outputId": "900de38e-c25c-41dc-b3a7-2ab23a1aace3"
   },
   "outputs": [],
   "source": [
    "fig = px.area(volume_df, \n",
    "              facet_row = 'asset_class', \n",
    "              x = 'year_month', \n",
    "              y = 'volume', \n",
    "              color = 'asset_class', \n",
    "              template = 'plotly_dark',\n",
    "              color_discrete_sequence=[\"gold\",\"blue\"],\n",
    "              labels={'asset_class':'Asset Class', }\n",
    "            )\n",
    "\n",
    "fig.update_layout(\n",
    "    title=\"Volume Gold vs S&P 500\",\n",
    "    legend_title=\"Asset Class\",\n",
    "  )\n",
    "\n",
    "fig.update_yaxes(title_text=\"Volume\")\n",
    "fig.update_xaxes(title_text=\"Year & Month\")\n",
    "fig.show()"
   ]
  },
  {
   "cell_type": "code",
   "execution_count": 25,
   "metadata": {
    "executionInfo": {
     "elapsed": 1,
     "status": "ok",
     "timestamp": 1660187728973,
     "user": {
      "displayName": "Vinod Dhole",
      "userId": "09410569866548331327"
     },
     "user_tz": 240
    },
    "id": "fQsxXZg95RXU"
   },
   "outputs": [],
   "source": [
    "gold_volume_df = volume_df[volume_df.asset_class == 'Gold']\n",
    "sp500_volume_df = volume_df[volume_df.asset_class == 'S&P 500']"
   ]
  },
  {
   "cell_type": "code",
   "execution_count": null,
   "metadata": {
    "colab": {
     "base_uri": "https://localhost:8080/",
     "height": 542
    },
    "executionInfo": {
     "elapsed": 300,
     "status": "ok",
     "timestamp": 1660187729516,
     "user": {
      "displayName": "Vinod Dhole",
      "userId": "09410569866548331327"
     },
     "user_tz": 240
    },
    "id": "Jh7wydUy5RXU",
    "outputId": "3f5d3b0f-a32e-46e7-bfc9-396628ff5acb"
   },
   "outputs": [],
   "source": [
    "figure1 = px.area(sp500_volume_df, \n",
    "              x = 'year_month', \n",
    "              y = 'volume', \n",
    "              color_discrete_sequence =['blue'],\n",
    "             )\n",
    "\n",
    "figure2 = px.area(gold_volume_df, \n",
    "              x = 'year_month', \n",
    "              y = 'volume',\n",
    "              color_discrete_sequence =['gold']\n",
    "              )\n",
    "          \n",
    "fig = make_subplots(rows=2, cols=1,subplot_titles=(\"S&P 500\",\"Gold\")) \n",
    "\n",
    "fig.append_trace(figure1[\"data\"][0], row=1, col=1)\n",
    "fig.append_trace(figure2[\"data\"][0], row=2, col=1)\n",
    "\n",
    "fig.update_yaxes(title_text=\"Volume (B)\", row=1, col=1)\n",
    "fig.update_yaxes(title_text=\"Volume\", row=2, col=1)\n",
    "\n",
    "\n",
    "fig.update_layout(title_text=\"Volume Trend\")       \n",
    "fig.show()"
   ]
  },
  {
   "cell_type": "code",
   "execution_count": 26,
   "metadata": {
    "colab": {
     "base_uri": "https://localhost:8080/",
     "height": 300
    },
    "executionInfo": {
     "elapsed": 390,
     "status": "ok",
     "timestamp": 1660187732082,
     "user": {
      "displayName": "Vinod Dhole",
      "userId": "09410569866548331327"
     },
     "user_tz": 240
    },
    "id": "ba0zIMIS5RXV",
    "outputId": "c8cb00cd-f415-45f3-b847-186387b8c0b7"
   },
   "outputs": [
    {
     "data": {
      "text/html": [
       "<div>\n",
       "<style scoped>\n",
       "    .dataframe tbody tr th:only-of-type {\n",
       "        vertical-align: middle;\n",
       "    }\n",
       "\n",
       "    .dataframe tbody tr th {\n",
       "        vertical-align: top;\n",
       "    }\n",
       "\n",
       "    .dataframe thead th {\n",
       "        text-align: right;\n",
       "    }\n",
       "</style>\n",
       "<table border=\"1\" class=\"dataframe\">\n",
       "  <thead>\n",
       "    <tr style=\"text-align: right;\">\n",
       "      <th></th>\n",
       "      <th>high</th>\n",
       "      <th>low</th>\n",
       "      <th>open</th>\n",
       "      <th>close</th>\n",
       "      <th>volume</th>\n",
       "      <th>adjclose</th>\n",
       "      <th>year</th>\n",
       "      <th>month</th>\n",
       "    </tr>\n",
       "  </thead>\n",
       "  <tbody>\n",
       "    <tr>\n",
       "      <th>count</th>\n",
       "      <td>5595.000000</td>\n",
       "      <td>5595.000000</td>\n",
       "      <td>5595.000000</td>\n",
       "      <td>5595.000000</td>\n",
       "      <td>5595.000000</td>\n",
       "      <td>5595.000000</td>\n",
       "      <td>5595.000000</td>\n",
       "      <td>5595.000000</td>\n",
       "    </tr>\n",
       "    <tr>\n",
       "      <th>mean</th>\n",
       "      <td>1057.050921</td>\n",
       "      <td>1046.138678</td>\n",
       "      <td>1051.755300</td>\n",
       "      <td>1051.665469</td>\n",
       "      <td>4385.934048</td>\n",
       "      <td>1051.665469</td>\n",
       "      <td>2011.072922</td>\n",
       "      <td>6.532797</td>\n",
       "    </tr>\n",
       "    <tr>\n",
       "      <th>std</th>\n",
       "      <td>514.333777</td>\n",
       "      <td>508.038660</td>\n",
       "      <td>511.346879</td>\n",
       "      <td>511.224890</td>\n",
       "      <td>24819.935947</td>\n",
       "      <td>511.224890</td>\n",
       "      <td>6.374952</td>\n",
       "      <td>3.436037</td>\n",
       "    </tr>\n",
       "    <tr>\n",
       "      <th>min</th>\n",
       "      <td>256.100006</td>\n",
       "      <td>255.000000</td>\n",
       "      <td>255.000000</td>\n",
       "      <td>255.100006</td>\n",
       "      <td>0.000000</td>\n",
       "      <td>255.100006</td>\n",
       "      <td>2000.000000</td>\n",
       "      <td>1.000000</td>\n",
       "    </tr>\n",
       "    <tr>\n",
       "      <th>25%</th>\n",
       "      <td>539.950012</td>\n",
       "      <td>538.850006</td>\n",
       "      <td>539.700012</td>\n",
       "      <td>539.800018</td>\n",
       "      <td>18.000000</td>\n",
       "      <td>539.800018</td>\n",
       "      <td>2006.000000</td>\n",
       "      <td>4.000000</td>\n",
       "    </tr>\n",
       "    <tr>\n",
       "      <th>50%</th>\n",
       "      <td>1199.300049</td>\n",
       "      <td>1189.000000</td>\n",
       "      <td>1194.599976</td>\n",
       "      <td>1194.699951</td>\n",
       "      <td>99.000000</td>\n",
       "      <td>1194.699951</td>\n",
       "      <td>2011.000000</td>\n",
       "      <td>7.000000</td>\n",
       "    </tr>\n",
       "    <tr>\n",
       "      <th>75%</th>\n",
       "      <td>1394.950012</td>\n",
       "      <td>1378.649963</td>\n",
       "      <td>1387.399963</td>\n",
       "      <td>1387.000000</td>\n",
       "      <td>368.000000</td>\n",
       "      <td>1387.000000</td>\n",
       "      <td>2017.000000</td>\n",
       "      <td>10.000000</td>\n",
       "    </tr>\n",
       "    <tr>\n",
       "      <th>max</th>\n",
       "      <td>2072.000000</td>\n",
       "      <td>2040.000000</td>\n",
       "      <td>2053.600098</td>\n",
       "      <td>2051.500000</td>\n",
       "      <td>386334.000000</td>\n",
       "      <td>2051.500000</td>\n",
       "      <td>2022.000000</td>\n",
       "      <td>12.000000</td>\n",
       "    </tr>\n",
       "  </tbody>\n",
       "</table>\n",
       "</div>"
      ],
      "text/plain": [
       "              high          low         open        close         volume  \\\n",
       "count  5595.000000  5595.000000  5595.000000  5595.000000    5595.000000   \n",
       "mean   1057.050921  1046.138678  1051.755300  1051.665469    4385.934048   \n",
       "std     514.333777   508.038660   511.346879   511.224890   24819.935947   \n",
       "min     256.100006   255.000000   255.000000   255.100006       0.000000   \n",
       "25%     539.950012   538.850006   539.700012   539.800018      18.000000   \n",
       "50%    1199.300049  1189.000000  1194.599976  1194.699951      99.000000   \n",
       "75%    1394.950012  1378.649963  1387.399963  1387.000000     368.000000   \n",
       "max    2072.000000  2040.000000  2053.600098  2051.500000  386334.000000   \n",
       "\n",
       "          adjclose         year        month  \n",
       "count  5595.000000  5595.000000  5595.000000  \n",
       "mean   1051.665469  2011.072922     6.532797  \n",
       "std     511.224890     6.374952     3.436037  \n",
       "min     255.100006  2000.000000     1.000000  \n",
       "25%     539.800018  2006.000000     4.000000  \n",
       "50%    1194.699951  2011.000000     7.000000  \n",
       "75%    1387.000000  2017.000000    10.000000  \n",
       "max    2051.500000  2022.000000    12.000000  "
      ]
     },
     "execution_count": 26,
     "metadata": {},
     "output_type": "execute_result"
    }
   ],
   "source": [
    "gold_df.describe()"
   ]
  },
  {
   "cell_type": "code",
   "execution_count": 27,
   "metadata": {
    "colab": {
     "base_uri": "https://localhost:8080/",
     "height": 300
    },
    "executionInfo": {
     "elapsed": 2,
     "status": "ok",
     "timestamp": 1660187732332,
     "user": {
      "displayName": "Vinod Dhole",
      "userId": "09410569866548331327"
     },
     "user_tz": 240
    },
    "id": "-2MLIRct5RXV",
    "outputId": "5aa73a9f-f6d2-4e95-c3b4-3a63e3117fef"
   },
   "outputs": [
    {
     "data": {
      "text/html": [
       "<div>\n",
       "<style scoped>\n",
       "    .dataframe tbody tr th:only-of-type {\n",
       "        vertical-align: middle;\n",
       "    }\n",
       "\n",
       "    .dataframe tbody tr th {\n",
       "        vertical-align: top;\n",
       "    }\n",
       "\n",
       "    .dataframe thead th {\n",
       "        text-align: right;\n",
       "    }\n",
       "</style>\n",
       "<table border=\"1\" class=\"dataframe\">\n",
       "  <thead>\n",
       "    <tr style=\"text-align: right;\">\n",
       "      <th></th>\n",
       "      <th>high</th>\n",
       "      <th>low</th>\n",
       "      <th>open</th>\n",
       "      <th>close</th>\n",
       "      <th>volume</th>\n",
       "      <th>adjclose</th>\n",
       "      <th>year</th>\n",
       "      <th>month</th>\n",
       "    </tr>\n",
       "  </thead>\n",
       "  <tbody>\n",
       "    <tr>\n",
       "      <th>count</th>\n",
       "      <td>5526.000000</td>\n",
       "      <td>5526.000000</td>\n",
       "      <td>5526.000000</td>\n",
       "      <td>5526.000000</td>\n",
       "      <td>5.526000e+03</td>\n",
       "      <td>5526.000000</td>\n",
       "      <td>5526.000000</td>\n",
       "      <td>5526.000000</td>\n",
       "    </tr>\n",
       "    <tr>\n",
       "      <th>mean</th>\n",
       "      <td>1863.692744</td>\n",
       "      <td>1841.201979</td>\n",
       "      <td>1852.912685</td>\n",
       "      <td>1853.149922</td>\n",
       "      <td>3.295045e+09</td>\n",
       "      <td>1853.149922</td>\n",
       "      <td>2011.154542</td>\n",
       "      <td>6.541983</td>\n",
       "    </tr>\n",
       "    <tr>\n",
       "      <th>std</th>\n",
       "      <td>954.367688</td>\n",
       "      <td>944.762929</td>\n",
       "      <td>949.775068</td>\n",
       "      <td>949.958124</td>\n",
       "      <td>1.467746e+09</td>\n",
       "      <td>949.958124</td>\n",
       "      <td>6.349575</td>\n",
       "      <td>3.428804</td>\n",
       "    </tr>\n",
       "    <tr>\n",
       "      <th>min</th>\n",
       "      <td>695.270020</td>\n",
       "      <td>666.789978</td>\n",
       "      <td>679.280029</td>\n",
       "      <td>676.530029</td>\n",
       "      <td>3.560700e+08</td>\n",
       "      <td>676.530029</td>\n",
       "      <td>2000.000000</td>\n",
       "      <td>1.000000</td>\n",
       "    </tr>\n",
       "    <tr>\n",
       "      <th>25%</th>\n",
       "      <td>1181.860046</td>\n",
       "      <td>1165.889984</td>\n",
       "      <td>1173.607544</td>\n",
       "      <td>1173.647491</td>\n",
       "      <td>2.158138e+09</td>\n",
       "      <td>1173.647491</td>\n",
       "      <td>2006.000000</td>\n",
       "      <td>4.000000</td>\n",
       "    </tr>\n",
       "    <tr>\n",
       "      <th>50%</th>\n",
       "      <td>1421.604980</td>\n",
       "      <td>1407.265015</td>\n",
       "      <td>1414.065002</td>\n",
       "      <td>1414.069946</td>\n",
       "      <td>3.362485e+09</td>\n",
       "      <td>1414.069946</td>\n",
       "      <td>2011.000000</td>\n",
       "      <td>7.000000</td>\n",
       "    </tr>\n",
       "    <tr>\n",
       "      <th>75%</th>\n",
       "      <td>2350.654907</td>\n",
       "      <td>2327.274963</td>\n",
       "      <td>2341.432495</td>\n",
       "      <td>2342.039978</td>\n",
       "      <td>4.059588e+09</td>\n",
       "      <td>2342.039978</td>\n",
       "      <td>2017.000000</td>\n",
       "      <td>10.000000</td>\n",
       "    </tr>\n",
       "    <tr>\n",
       "      <th>max</th>\n",
       "      <td>4818.620117</td>\n",
       "      <td>4780.040039</td>\n",
       "      <td>4804.509766</td>\n",
       "      <td>4796.560059</td>\n",
       "      <td>1.145623e+10</td>\n",
       "      <td>4796.560059</td>\n",
       "      <td>2022.000000</td>\n",
       "      <td>12.000000</td>\n",
       "    </tr>\n",
       "  </tbody>\n",
       "</table>\n",
       "</div>"
      ],
      "text/plain": [
       "              high          low         open        close        volume  \\\n",
       "count  5526.000000  5526.000000  5526.000000  5526.000000  5.526000e+03   \n",
       "mean   1863.692744  1841.201979  1852.912685  1853.149922  3.295045e+09   \n",
       "std     954.367688   944.762929   949.775068   949.958124  1.467746e+09   \n",
       "min     695.270020   666.789978   679.280029   676.530029  3.560700e+08   \n",
       "25%    1181.860046  1165.889984  1173.607544  1173.647491  2.158138e+09   \n",
       "50%    1421.604980  1407.265015  1414.065002  1414.069946  3.362485e+09   \n",
       "75%    2350.654907  2327.274963  2341.432495  2342.039978  4.059588e+09   \n",
       "max    4818.620117  4780.040039  4804.509766  4796.560059  1.145623e+10   \n",
       "\n",
       "          adjclose         year        month  \n",
       "count  5526.000000  5526.000000  5526.000000  \n",
       "mean   1853.149922  2011.154542     6.541983  \n",
       "std     949.958124     6.349575     3.428804  \n",
       "min     676.530029  2000.000000     1.000000  \n",
       "25%    1173.647491  2006.000000     4.000000  \n",
       "50%    1414.069946  2011.000000     7.000000  \n",
       "75%    2342.039978  2017.000000    10.000000  \n",
       "max    4796.560059  2022.000000    12.000000  "
      ]
     },
     "execution_count": 27,
     "metadata": {},
     "output_type": "execute_result"
    }
   ],
   "source": [
    "sp500_df.describe()"
   ]
  },
  {
   "cell_type": "code",
   "execution_count": null,
   "metadata": {
    "colab": {
     "base_uri": "https://localhost:8080/",
     "height": 542
    },
    "executionInfo": {
     "elapsed": 501,
     "status": "ok",
     "timestamp": 1660187733644,
     "user": {
      "displayName": "Vinod Dhole",
      "userId": "09410569866548331327"
     },
     "user_tz": 240
    },
    "id": "Spu3D3Jj5RXV",
    "outputId": "7d4f5128-4e53-42c7-959f-680314488a0d"
   },
   "outputs": [],
   "source": [
    "trace0 = go.Box(\n",
    "    y=sp500_df.close,\n",
    "    name = 'S&P 500',\n",
    "    marker = dict(\n",
    "        color = 'red')\n",
    ")\n",
    "\n",
    "trace1 = go.Box(\n",
    "    y=gold_df.close,\n",
    "    name = 'Gold',\n",
    "    marker = dict(\n",
    "        color = 'navy')\n",
    ")\n",
    "\n",
    "data = [trace0, trace1]\n",
    "layout = dict(title='Stock Prices of S&P 500 & Gold')\n",
    "\n",
    "fig = dict(data=data, layout=layout)\n",
    "py.iplot(fig)"
   ]
  },
  {
   "cell_type": "code",
   "execution_count": 28,
   "metadata": {
    "executionInfo": {
     "elapsed": 239,
     "status": "ok",
     "timestamp": 1660187734674,
     "user": {
      "displayName": "Vinod Dhole",
      "userId": "09410569866548331327"
     },
     "user_tz": 240
    },
    "id": "Y70hFwbh5RXV"
   },
   "outputs": [],
   "source": [
    "gold_df['daily_return'] = gold_df.adjclose.pct_change()\n",
    "sp500_df['daily_return'] = sp500_df.adjclose.pct_change()\n",
    "\n",
    "#gold_df['log_returns'] = np.log(gold_df['adjclose']/gold_df['adjclose'].shift())\n",
    "#sp500_df['log_returns'] = np.log(sp500_df['adjclose']/sp500_df['adjclose'].shift())"
   ]
  },
  {
   "cell_type": "code",
   "execution_count": null,
   "metadata": {
    "colab": {
     "base_uri": "https://localhost:8080/",
     "height": 542
    },
    "executionInfo": {
     "elapsed": 948,
     "status": "ok",
     "timestamp": 1660187736414,
     "user": {
      "displayName": "Vinod Dhole",
      "userId": "09410569866548331327"
     },
     "user_tz": 240
    },
    "id": "VhsjMUHR5RXV",
    "outputId": "227b70d5-41cb-4501-e043-288079ac7e45"
   },
   "outputs": [],
   "source": [
    "trace0 = go.Scatter(\n",
    "                    x=sp500_df.index, \n",
    "                    y=sp500_df.daily_return, \n",
    "                    name='S&P 500', \n",
    "                    line=dict(color='lime'\n",
    "                             )\n",
    "                   )\n",
    "\n",
    "trace1 = go.Scatter(\n",
    "                    x=gold_df.index, \n",
    "                    y=gold_df.daily_return, \n",
    "                    name='Gold', \n",
    "                    line=dict(color='grey'\n",
    "                             )\n",
    "                   )\n",
    "\n",
    "\n",
    "data = [trace0, trace1]\n",
    "layout = dict(\n",
    "    title='Daily Returns of S&P 500 vs Gold',\n",
    "    xaxis=dict(\n",
    "        rangeselector=dict(\n",
    "            buttons=list([\n",
    "                dict(count=1,\n",
    "                     label='1m',\n",
    "                     step='month',\n",
    "                     stepmode='backward'),\n",
    "                dict(count=3,\n",
    "                     label='3m',\n",
    "                     step='month',\n",
    "                     stepmode='backward'),\n",
    "                dict(count=6,\n",
    "                     label='6m',\n",
    "                     step='month',\n",
    "                     stepmode='backward'),\n",
    "                dict(count=12,\n",
    "                     label='1Y',\n",
    "                     step='month',\n",
    "                     stepmode='backward'),\n",
    "                dict(count=5,\n",
    "                     label='5Y',\n",
    "                     step='year',\n",
    "                     stepmode='backward'),\n",
    "                dict(step=\"all\")\n",
    "            ])\n",
    "        ),\n",
    "        rangeslider=dict(\n",
    "            visible = True\n",
    "        ), type='date'\n",
    "    )\n",
    ")\n",
    "\n",
    "fig = dict(data=data, layout=layout)\n",
    "py.iplot(fig)"
   ]
  },
  {
   "cell_type": "code",
   "execution_count": null,
   "metadata": {
    "colab": {
     "base_uri": "https://localhost:8080/",
     "height": 542
    },
    "executionInfo": {
     "elapsed": 1235,
     "status": "ok",
     "timestamp": 1660187744857,
     "user": {
      "displayName": "Vinod Dhole",
      "userId": "09410569866548331327"
     },
     "user_tz": 240
    },
    "id": "MjTeHPgh5RXV",
    "outputId": "73d60cbe-e8f6-4a61-deac-32aaff354261"
   },
   "outputs": [],
   "source": [
    "all_df = pd.concat([sp500_df,gold_df])\n",
    "fig = px.histogram(all_df,\n",
    "              x='daily_return',\n",
    "              color=all_df.asset_class,\n",
    "              nbins=150,\n",
    "              marginal='violin',\n",
    "              template = 'plotly_dark',\n",
    "              title='Distribution of Daily Returns')\n",
    "\n",
    "fig.update_layout(xaxis_title='Daily returns', \n",
    "                  yaxis_title='Freq of returns', \n",
    "                  legend_title='Asset Class')\n",
    "fig.update_layout(bargap=0.1)\n",
    "fig.show()"
   ]
  },
  {
   "cell_type": "code",
   "execution_count": null,
   "metadata": {
    "colab": {
     "base_uri": "https://localhost:8080/",
     "height": 542
    },
    "executionInfo": {
     "elapsed": 1462,
     "status": "ok",
     "timestamp": 1660187747834,
     "user": {
      "displayName": "Vinod Dhole",
      "userId": "09410569866548331327"
     },
     "user_tz": 240
    },
    "id": "O0bEi5U55RXV",
    "outputId": "f72dcc9f-4416-40f0-91e7-d614cc487994"
   },
   "outputs": [],
   "source": [
    "start_covid = '2019-1-1'\n",
    "end_covid  = '2021-6-30'\n",
    "downfall = '2020-02-20'\n",
    "trace0 = go.Candlestick(\n",
    "                        x=gold_df.index,\n",
    "                        open=gold_df.open,\n",
    "                        high=gold_df.high, \n",
    "                        low=gold_df.low,\n",
    "                        close=gold_df.close,\n",
    "                        name='Gold'\n",
    "                       )\n",
    "trace1 = go.Candlestick(\n",
    "                        x=sp500_df.index,\n",
    "                        open=sp500_df.open,\n",
    "                        high=sp500_df.high, \n",
    "                        low=sp500_df.low,\n",
    "                        close=sp500_df.close,\n",
    "                        name='S&P 500'\n",
    "                       )\n",
    "data = [trace0,trace1]\n",
    "layout =  dict(  title = \"Price Chart of Gold & S&P 500\",\n",
    "                 #template = 'plotly_dark',\n",
    "                 xaxis = dict(range = [start_covid,end_covid]),\n",
    "                 shapes = [dict(\n",
    "        x0=downfall, x1=downfall, y0=0, y1=1, xref='x', yref='paper',\n",
    "        line_width=2)],\n",
    "      annotations=[dict(\n",
    "        x=downfall, y=0.05, xref='x', yref='paper',\n",
    "        showarrow=False, xanchor='left', text='Price Declining Begins')]\n",
    "              )\n",
    "\n",
    "fig = dict(data=data, layout=layout)\n",
    "py.iplot(fig)"
   ]
  },
  {
   "cell_type": "code",
   "execution_count": 29,
   "metadata": {
    "colab": {
     "base_uri": "https://localhost:8080/",
     "height": 238
    },
    "executionInfo": {
     "elapsed": 235,
     "status": "ok",
     "timestamp": 1660188007158,
     "user": {
      "displayName": "Vinod Dhole",
      "userId": "09410569866548331327"
     },
     "user_tz": 240
    },
    "id": "CdgzexjY5RXW",
    "outputId": "a945d07c-53c5-45c4-aeba-d62959846103"
   },
   "outputs": [
    {
     "data": {
      "text/html": [
       "<div>\n",
       "<style scoped>\n",
       "    .dataframe tbody tr th:only-of-type {\n",
       "        vertical-align: middle;\n",
       "    }\n",
       "\n",
       "    .dataframe tbody tr th {\n",
       "        vertical-align: top;\n",
       "    }\n",
       "\n",
       "    .dataframe thead th {\n",
       "        text-align: right;\n",
       "    }\n",
       "</style>\n",
       "<table border=\"1\" class=\"dataframe\">\n",
       "  <thead>\n",
       "    <tr style=\"text-align: right;\">\n",
       "      <th></th>\n",
       "      <th>S&amp;P 500 Price</th>\n",
       "      <th>Gold Price</th>\n",
       "      <th>S&amp;P 500 Returns</th>\n",
       "      <th>Gold Returns</th>\n",
       "    </tr>\n",
       "    <tr>\n",
       "      <th>formatted_date</th>\n",
       "      <th></th>\n",
       "      <th></th>\n",
       "      <th></th>\n",
       "      <th></th>\n",
       "    </tr>\n",
       "  </thead>\n",
       "  <tbody>\n",
       "    <tr>\n",
       "      <th>2000-08-31</th>\n",
       "      <td>1517.680054</td>\n",
       "      <td>278.299988</td>\n",
       "      <td>NaN</td>\n",
       "      <td>NaN</td>\n",
       "    </tr>\n",
       "    <tr>\n",
       "      <th>2000-09-01</th>\n",
       "      <td>1520.770020</td>\n",
       "      <td>277.000000</td>\n",
       "      <td>0.002036</td>\n",
       "      <td>-0.004671</td>\n",
       "    </tr>\n",
       "    <tr>\n",
       "      <th>2000-09-05</th>\n",
       "      <td>1507.079956</td>\n",
       "      <td>275.799988</td>\n",
       "      <td>-0.009002</td>\n",
       "      <td>-0.004332</td>\n",
       "    </tr>\n",
       "    <tr>\n",
       "      <th>2000-09-06</th>\n",
       "      <td>1492.250000</td>\n",
       "      <td>274.200012</td>\n",
       "      <td>-0.009840</td>\n",
       "      <td>-0.005801</td>\n",
       "    </tr>\n",
       "    <tr>\n",
       "      <th>2000-09-07</th>\n",
       "      <td>1502.510010</td>\n",
       "      <td>274.000000</td>\n",
       "      <td>0.006876</td>\n",
       "      <td>-0.000729</td>\n",
       "    </tr>\n",
       "  </tbody>\n",
       "</table>\n",
       "</div>"
      ],
      "text/plain": [
       "                S&P 500 Price  Gold Price  S&P 500 Returns  Gold Returns\n",
       "formatted_date                                                          \n",
       "2000-08-31        1517.680054  278.299988              NaN           NaN\n",
       "2000-09-01        1520.770020  277.000000         0.002036     -0.004671\n",
       "2000-09-05        1507.079956  275.799988        -0.009002     -0.004332\n",
       "2000-09-06        1492.250000  274.200012        -0.009840     -0.005801\n",
       "2000-09-07        1502.510010  274.000000         0.006876     -0.000729"
      ]
     },
     "execution_count": 29,
     "metadata": {},
     "output_type": "execute_result"
    }
   ],
   "source": [
    "corr_df = pd.merge(sp500_df, gold_df, left_index=True, right_index=True, how='inner')[['adjclose_x','adjclose_y','daily_return_x','daily_return_y']]\n",
    "corr_df.columns = ['S&P 500 Price','Gold Price','S&P 500 Returns','Gold Returns']\n",
    "corr_df.sort_index(inplace=True)\n",
    "corr_df.head()"
   ]
  },
  {
   "cell_type": "code",
   "execution_count": 30,
   "metadata": {},
   "outputs": [
    {
     "data": {
      "text/plain": [
       "1.0"
      ]
     },
     "execution_count": 30,
     "metadata": {},
     "output_type": "execute_result"
    }
   ],
   "source": [
    "corr_df[\"S&P 500 Returns\"].corr(corr_df[\"S&P 500 Returns\"])"
   ]
  },
  {
   "cell_type": "code",
   "execution_count": 31,
   "metadata": {
    "colab": {
     "base_uri": "https://localhost:8080/"
    },
    "executionInfo": {
     "elapsed": 236,
     "status": "ok",
     "timestamp": 1660188162972,
     "user": {
      "displayName": "Vinod Dhole",
      "userId": "09410569866548331327"
     },
     "user_tz": 240
    },
    "id": "o8bjBnc_7Jwb",
    "outputId": "f192fc93-f25f-4c25-fb13-57e87cff3acc"
   },
   "outputs": [
    {
     "data": {
      "text/plain": [
       "-0.015203102065186009"
      ]
     },
     "execution_count": 31,
     "metadata": {},
     "output_type": "execute_result"
    }
   ],
   "source": [
    "corr_df[\"S&P 500 Returns\"].corr(corr_df[\"Gold Returns\"])"
   ]
  },
  {
   "cell_type": "code",
   "execution_count": 32,
   "metadata": {
    "colab": {
     "base_uri": "https://localhost:8080/",
     "height": 857
    },
    "executionInfo": {
     "elapsed": 4585,
     "status": "ok",
     "timestamp": 1660188644231,
     "user": {
      "displayName": "Vinod Dhole",
      "userId": "09410569866548331327"
     },
     "user_tz": 240
    },
    "id": "u4u6Dec65RXW",
    "outputId": "7950342d-409b-42da-bb7f-062721d4f1a6"
   },
   "outputs": [
    {
     "data": {
      "image/png": "[encoded data removed]",
      "text/plain": [
       "<Figure size 432x432 with 3 Axes>"
      ]
     },
     "metadata": {
      "needs_background": "light"
     },
     "output_type": "display_data"
    },
    {
     "data": {
      "image/png": "[encoded data removed]",
      "text/plain": [
       "<Figure size 432x432 with 3 Axes>"
      ]
     },
     "metadata": {
      "needs_background": "light"
     },
     "output_type": "display_data"
    }
   ],
   "source": [
    "sns.jointplot(data=corr_df,\n",
    "              x='S&P 500 Returns', \n",
    "              y='S&P 500 Returns', \n",
    "              kind='scatter',\n",
    "              color='green')\n",
    "sns.jointplot(data=corr_df,\n",
    "              x='S&P 500 Returns', \n",
    "              y='Gold Returns', \n",
    "              kind='scatter',\n",
    "              color='red');\n"
   ]
  },
  {
   "cell_type": "code",
   "execution_count": 33,
   "metadata": {},
   "outputs": [],
   "source": [
    "#getting rid of first row which has null ruturns \n",
    "corr_df = corr_df[1:]\n",
    "corr_df.sort_index(inplace=True)"
   ]
  },
  {
   "cell_type": "code",
   "execution_count": 34,
   "metadata": {
    "executionInfo": {
     "elapsed": 1,
     "status": "ok",
     "timestamp": 1660187750143,
     "user": {
      "displayName": "Vinod Dhole",
      "userId": "09410569866548331327"
     },
     "user_tz": 240
    },
    "id": "2ZA8_-zL5RXW"
   },
   "outputs": [],
   "source": [
    "corr_df['sp500_cum_ret'] = ((1 + corr_df[\"S&P 500 Returns\"]).cumprod() - 1)*100\n",
    "corr_df['gold_cum_ret'] = ((1 + corr_df[\"Gold Returns\"]).cumprod() - 1)*100"
   ]
  },
  {
   "cell_type": "code",
   "execution_count": 35,
   "metadata": {},
   "outputs": [
    {
     "name": "stdout",
     "output_type": "stream",
     "text": [
      "S&P 500 Growth is 181.36% & Gold Growth is 487.89%\n"
     ]
    }
   ],
   "source": [
    "sp_growth = round(corr_df[\"sp500_cum_ret\"].iloc[-1],2)\n",
    "gold_growth = round(corr_df[\"gold_cum_ret\"].iloc[-1],2)\n",
    "print('S&P 500 Growth is {}% & Gold Growth is {}%'.format(sp_growth,gold_growth))"
   ]
  },
  {
   "cell_type": "code",
   "execution_count": null,
   "metadata": {
    "executionInfo": {
     "elapsed": 213,
     "status": "ok",
     "timestamp": 1660187750619,
     "user": {
      "displayName": "Vinod Dhole",
      "userId": "09410569866548331327"
     },
     "user_tz": 240
    },
    "id": "BMF3AfUR5RXW"
   },
   "outputs": [],
   "source": [
    "fig = px.line(corr_df[['sp500_cum_ret','gold_cum_ret']],\n",
    "              title='Daily Cumulative Returns'\n",
    "             )\n",
    "\n",
    "fig.update_layout(yaxis_title='Daily cumulative returns (%)',\n",
    "                  xaxis_title='Date',\n",
    "                  legend_title='Asset Class')\n",
    "\n",
    "fig.show()"
   ]
  },
  {
   "cell_type": "code",
   "execution_count": 36,
   "metadata": {
    "executionInfo": {
     "elapsed": 1,
     "status": "ok",
     "timestamp": 1660187751429,
     "user": {
      "displayName": "Vinod Dhole",
      "userId": "09410569866548331327"
     },
     "user_tz": 240
    },
    "id": "h0_-HgGC5RXW"
   },
   "outputs": [
    {
     "name": "stdout",
     "output_type": "stream",
     "text": [
      "Current Gold Price   :1755.300048828125\n",
      "Current S&P 500 Price:4283.740234375\n"
     ]
    }
   ],
   "source": [
    "current_gold_price = gold_df[\"adjclose\"].iloc[-1]\n",
    "current_sp500_price = sp500_df[\"adjclose\"].iloc[-1]\n",
    "print('Current Gold Price   :{}\\nCurrent S&P 500 Price:{}'.format(current_gold_price,current_sp500_price))"
   ]
  },
  {
   "cell_type": "code",
   "execution_count": 37,
   "metadata": {
    "executionInfo": {
     "elapsed": 1,
     "status": "ok",
     "timestamp": 1660187751673,
     "user": {
      "displayName": "Vinod Dhole",
      "userId": "09410569866548331327"
     },
     "user_tz": 240
    },
    "id": "HBHrXYYM5RXW"
   },
   "outputs": [],
   "source": [
    "#Valid Business year end dates \n",
    "year_end_series = pd.date_range(start_date, end_date, freq='BY')"
   ]
  },
  {
   "cell_type": "code",
   "execution_count": 38,
   "metadata": {
    "executionInfo": {
     "elapsed": 2,
     "status": "ok",
     "timestamp": 1660187752236,
     "user": {
      "displayName": "Vinod Dhole",
      "userId": "09410569866548331327"
     },
     "user_tz": 240
    },
    "id": "vWaNZA6V5RXX"
   },
   "outputs": [],
   "source": [
    "#Create a new data frame which contains only year end dates \n",
    "gold_ye_df = gold_df[gold_df.index.isin(year_end_series)].copy()\n",
    "sp500_ye_df = sp500_df[sp500_df.index.isin(year_end_series)].copy()"
   ]
  },
  {
   "cell_type": "code",
   "execution_count": 39,
   "metadata": {},
   "outputs": [],
   "source": [
    "gold_ye_df['ytd'] = (current_gold_price - gold_ye_df.adjclose)*100/gold_ye_df.adjclose\n",
    "sp500_ye_df['ytd'] = (current_sp500_price - sp500_ye_df.adjclose)*100/sp500_ye_df.adjclose"
   ]
  },
  {
   "cell_type": "code",
   "execution_count": 40,
   "metadata": {},
   "outputs": [],
   "source": [
    "ytd_df = pd.merge(gold_ye_df, sp500_ye_df, left_index=True, right_index=True, how='inner')[['ytd_x','ytd_y']]\n",
    "ytd_df.columns = ['Gold YTD','S&P 500 YTD']"
   ]
  },
  {
   "cell_type": "code",
   "execution_count": null,
   "metadata": {},
   "outputs": [],
   "source": [
    "fig = px.bar(ytd_df,\n",
    "             barmode='group',\n",
    "             title='Year end to Date Returns',\n",
    "             color_discrete_sequence=[\"goldenrod\",\"cornflowerblue\"])\n",
    "                \n",
    "\n",
    "fig.update_layout(yaxis_title='Year End to Date Returns', \n",
    "                  legend_title='Asset Class')\n"
   ]
  },
  {
   "cell_type": "code",
   "execution_count": 41,
   "metadata": {},
   "outputs": [
    {
     "name": "stdout",
     "output_type": "stream",
     "text": [
      "Daily volatility of S&P 500 :  950.1869883620654\n",
      "Daily volatility of Gold :  508.88688463120536\n"
     ]
    }
   ],
   "source": [
    "sp500_std = corr_df['S&P 500 Price'].std()\n",
    "gold_std = corr_df['Gold Price'].std()\n",
    "print('Daily volatility of S&P 500 : ',sp500_std)\n",
    "print('Daily volatility of Gold : ',gold_std)"
   ]
  },
  {
   "cell_type": "code",
   "execution_count": 42,
   "metadata": {},
   "outputs": [
    {
     "name": "stdout",
     "output_type": "stream",
     "text": [
      "Monthly volatility of S&P 500 : 4354.3037985312885\n",
      "Monthly volatility of Gold : 2332.0126689927583\n"
     ]
    }
   ],
   "source": [
    "print('Monthly volatility of S&P 500 :',sp500_std*np.sqrt(21))\n",
    "print('Monthly volatility of Gold :',gold_std*np.sqrt(21))"
   ]
  },
  {
   "cell_type": "code",
   "execution_count": 43,
   "metadata": {},
   "outputs": [
    {
     "name": "stdout",
     "output_type": "stream",
     "text": [
      "Annual volatility of S&P 500 : 15083.750821292699\n",
      "Annual volatility of Gold : 8078.328853179521\n"
     ]
    }
   ],
   "source": [
    "print('Annual volatility of S&P 500 :',sp500_std*np.sqrt(252))\n",
    "print('Annual volatility of Gold :',gold_std*np.sqrt(252))"
   ]
  },
  {
   "cell_type": "code",
   "execution_count": 44,
   "metadata": {},
   "outputs": [],
   "source": [
    "corr_df['sp500_volatility'] = corr_df['S&P 500 Price'].rolling(window=252).std()*np.sqrt(252)\n",
    "corr_df['gold_volatility'] = corr_df['Gold Price'].rolling(window=252).std()*np.sqrt(252)"
   ]
  },
  {
   "cell_type": "code",
   "execution_count": null,
   "metadata": {},
   "outputs": [],
   "source": [
    "fig = px.line(corr_df[['sp500_volatility','gold_volatility']],\n",
    "              title='Rolling Annual Volatility'\n",
    "             )\n",
    "                \n",
    "\n",
    "fig.update_layout(yaxis_title='Annual Volatility', \n",
    "                  xaxis_title='Date',\n",
    "                  legend_title='Asset Class')\n",
    "\n",
    "fig.show()"
   ]
  },
  {
   "cell_type": "code",
   "execution_count": 45,
   "metadata": {},
   "outputs": [],
   "source": [
    "def calculate_moving_average(df,period):\n",
    "    sma_col = 'Simple Moving Average {}'.format(period)\n",
    "    #ema_col = 'Exponential MA {}'.format(period)\n",
    "    df[sma_col] = df.adjclose.rolling(period).mean()\n",
    "    #df[ema_col] = df.adjclose.ewm(span=period, adjust=False).mean()"
   ]
  },
  {
   "cell_type": "code",
   "execution_count": 46,
   "metadata": {},
   "outputs": [],
   "source": [
    "for data in [gold_df, sp500_df]:\n",
    "    for period in [21,252]:\n",
    "        calculate_moving_average(data,period)"
   ]
  },
  {
   "cell_type": "code",
   "execution_count": null,
   "metadata": {},
   "outputs": [],
   "source": [
    "fig = px.line(sp500_df[['adjclose',\n",
    "                        'Simple Moving Average 21',\n",
    "                        'Simple Moving Average 252'\n",
    "                       ]],\n",
    "              title='Simple Moving Average for S&P 500',\n",
    "              #range_x=['2005-01-01','2015-12-31' ]\n",
    "              )\n",
    "\n",
    "fig.update_layout(yaxis_title='Adjusted Closing Price', \n",
    "                  xaxis_title='Date', \n",
    "                  legend_title='Moving Average', \n",
    "                 )\n",
    "\n",
    "fig.show()"
   ]
  },
  {
   "cell_type": "code",
   "execution_count": null,
   "metadata": {},
   "outputs": [],
   "source": [
    "fig = px.line(gold_df[['adjclose',\n",
    "                        'Simple Moving Average 21',\n",
    "                        'Simple Moving Average 252'\n",
    "                       ]],\n",
    "              title='Simple Moving Average for Gold',\n",
    "              #range_x=['2005-01-01','2015-12-31' ]\n",
    "              )\n",
    "\n",
    "fig.update_layout(yaxis_title='Adjusted Closing Price', \n",
    "                  xaxis_title='Date', \n",
    "                  legend_title='Moving Average', \n",
    "                 )\n",
    "\n",
    "fig.show()"
   ]
  },
  {
   "cell_type": "code",
   "execution_count": 47,
   "metadata": {},
   "outputs": [],
   "source": [
    "def min_max_scaling(series):\n",
    "    return (series - series.min()) / (series.max() - series.min())"
   ]
  },
  {
   "cell_type": "code",
   "execution_count": 48,
   "metadata": {},
   "outputs": [],
   "source": [
    "gold_df['close_normalize'] = min_max_scaling(gold_df.adjclose)\n",
    "sp500_df['close_normalize'] = min_max_scaling(sp500_df.adjclose)\n",
    "all_df = pd.concat([sp500_df,gold_df])"
   ]
  },
  {
   "cell_type": "code",
   "execution_count": null,
   "metadata": {},
   "outputs": [],
   "source": [
    "fig = px.line(all_df,\n",
    "              x=all_df.index,\n",
    "              y=all_df.close_normalize,\n",
    "              color=all_df.asset_class, \n",
    "              color_discrete_sequence=[\"violet\", \"gold\"],\n",
    "              template = 'plotly_dark',\n",
    "              title='Normalized Closing Price Trend')\n",
    "\n",
    "fig.update_layout(xaxis_title='Date', \n",
    "                  yaxis_title='Closing Price', \n",
    "                  legend_title='Asset Class')\n",
    "\n",
    "fig.show();"
   ]
  },
  {
   "cell_type": "code",
   "execution_count": 49,
   "metadata": {},
   "outputs": [],
   "source": [
    "#adding a new column \n",
    "corr_df['diff'] = corr_df['S&P 500 Price']-corr_df['Gold Price']"
   ]
  },
  {
   "cell_type": "code",
   "execution_count": null,
   "metadata": {},
   "outputs": [],
   "source": [
    "trace0 = go.Scatter(\n",
    "                    x=corr_df.index, \n",
    "                    y=corr_df['S&P 500 Price'], \n",
    "                    name='S&P 500', \n",
    "                    line=dict(color='lime')\n",
    "                   )\n",
    "\n",
    "trace1 = go.Scatter(\n",
    "                    x=corr_df.index, \n",
    "                    y=corr_df['Gold Price'], \n",
    "                    name='Gold', \n",
    "                    line=dict(color='grey')\n",
    "                   )\n",
    "\n",
    "trace2 = go.Scatter(\n",
    "                    x=corr_df.index, \n",
    "                    y=corr_df['diff'], \n",
    "                    name='Difference', \n",
    "                    line=dict(color='red')\n",
    "                   )\n",
    "\n",
    "data = [trace0, trace1, trace2]\n",
    "layout = {\n",
    "    'title': 'Stock Prices of S&P 500 vs Gold',\n",
    "    'yaxis': {'title': 'price'},\n",
    "    'shapes': [{\n",
    "        'x0': '2008-12-29', 'x1': '2008-12-29',\n",
    "        'y0': 0, 'y1': 1, 'yref': 'paper',\n",
    "        'line': {'color': 'red', 'width': 1}\n",
    "    },\n",
    "    {\n",
    "        'x0': '2013-04-09', 'x1': '2013-04-09',\n",
    "        'y0': 0, 'y1': 1, 'yref': 'paper',\n",
    "        'line': {'color': 'red', 'width': 1}\n",
    "    }    \n",
    "    ],\n",
    "    'annotations': [{\n",
    "        'x': '2008-12-29',  'yref': 'paper',\n",
    "         'showarrow': False, 'xanchor': 'left',\n",
    "        'text': 'Gold > S&P 500'\n",
    "    },\n",
    "    {\n",
    "        'x': '2013-04-09',  'yref': 'paper',\n",
    "         'showarrow': False, 'xanchor': 'left',\n",
    "        'text': 'S&P 500 > Gold'\n",
    "    }\n",
    "    ]\n",
    "}\n",
    "\n",
    "fig = dict(data=data, layout=layout)\n",
    "py.iplot(fig)"
   ]
  },
  {
   "cell_type": "code",
   "execution_count": 1,
   "metadata": {
    "executionInfo": {
     "elapsed": 2,
     "status": "ok",
     "timestamp": 1660187757297,
     "user": {
      "displayName": "Vinod Dhole",
      "userId": "09410569866548331327"
     },
     "user_tz": 240
    },
    "id": "1wuUZsK85RXX"
   },
   "outputs": [],
   "source": [
    "import jovian"
   ]
  },
  {
   "cell_type": "code",
   "execution_count": null,
   "metadata": {
    "colab": {
     "background_save": true
    },
    "id": "3-jbl8-05RXX",
    "scrolled": false
   },
   "outputs": [
    {
     "data": {
      "application/javascript": [
       "window.require && require([\"base/js/namespace\"],function(Jupyter){Jupyter.notebook.save_checkpoint()})"
      ],
      "text/plain": [
       "<IPython.core.display.Javascript object>"
      ]
     },
     "metadata": {},
     "output_type": "display_data"
    }
   ],
   "source": [
    "jovian.commit()"
   ]
  },
  {
   "cell_type": "code",
   "execution_count": null,
   "metadata": {},
   "outputs": [],
   "source": []
  }
 ],
 "metadata": {
  "colab": {
   "name": "zerotopandas-course-project.ipynb",
   "version": ""
  },
  "language_info": {
   "codemirror_mode": {
    "name": "ipython",
    "version": 3
   },
   "file_extension": ".py",
   "mimetype": "text/x-python",
   "name": "python",
   "nbconvert_exporter": "python",
   "pygments_lexer": "ipython3",
   "version": "3.9.6"
  }
 },
 "nbformat": 4,
 "nbformat_minor": 1
}